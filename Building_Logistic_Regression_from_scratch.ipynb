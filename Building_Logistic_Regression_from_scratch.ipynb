{
  "nbformat": 4,
  "nbformat_minor": 0,
  "metadata": {
    "colab": {
      "provenance": [],
      "authorship_tag": "ABX9TyPWEK/9oN2OGkislN2fNzJc",
      "include_colab_link": true
    },
    "kernelspec": {
      "name": "python3",
      "display_name": "Python 3"
    },
    "language_info": {
      "name": "python"
    }
  },
  "cells": [
    {
      "cell_type": "markdown",
      "metadata": {
        "id": "view-in-github",
        "colab_type": "text"
      },
      "source": [
        "<a href=\"https://colab.research.google.com/github/sahana-github/Machine-learning-Demo/blob/main/Building_Logistic_Regression_from_scratch.ipynb\" target=\"_parent\"><img src=\"https://colab.research.google.com/assets/colab-badge.svg\" alt=\"Open In Colab\"/></a>"
      ]
    },
    {
      "cell_type": "code",
      "execution_count": 1,
      "metadata": {
        "id": "HpqfcW6Yz_3Q"
      },
      "outputs": [],
      "source": [
        "import numpy as np"
      ]
    },
    {
      "cell_type": "markdown",
      "source": [
        "Logistic Regression"
      ],
      "metadata": {
        "id": "s9LzS5sd0ypF"
      }
    },
    {
      "cell_type": "code",
      "source": [
        "class Logistic_Regression():\n",
        "\n",
        "\n",
        "  #declaring learning rate and number of iterations(hyperparameters)\n",
        "  def __init__(self,learning_rate,no_of_iterations):\n",
        "\n",
        "    self.learning_rate=learning_rate\n",
        "    self.no_of_iterations=no_of_iterations\n",
        "\n",
        "  #fit function to train model to dataset\n",
        "  def fit(self,X,Y):\n",
        "    self.m,self.n=X.shape\n",
        "\n",
        "    #initiate weights and bias\n",
        "    self.w=np.zeros(self.n)\n",
        "    self.b=0\n",
        "    self.X=X\n",
        "    self.Y=Y\n",
        "\n",
        "    #implementing gradient descent for optimization\n",
        "    for i in range(self.no_of_iterations):\n",
        "      self.update_weights()\n",
        "\n",
        "  def update_weights(self):\n",
        "    #Y_hat formula (sigmoid function)\n",
        "    Y_hat=1/(1+np.exp(-(self.X.dot(self.w)+self.b)))\n",
        "    #build derivatives\n",
        "    dw=(1/self.m)*np.dot(self.X.T,(Y_hat-self.Y))\n",
        "    db=(1/self.m)*np.sum(Y_hat-self.Y)\n",
        "\n",
        "    #updating weights and bias using gradient descent equation\n",
        "    self.w=self.w-self.learning_rate*dw\n",
        "    self.b=self.b-self.learning_rate*db\n",
        "\n",
        "  #sigmoid equation and decision boundary\n",
        "  def predict(self,x):\n",
        "    Y_pred=1/(1+np.exp(-(x.dot(self.w)+self.b)))\n",
        "    Y_pred=np.where(Y_pred>0.5,1,0)\n",
        "    return Y_pred\n"
      ],
      "metadata": {
        "id": "0TbBPSu50xXF"
      },
      "execution_count": 4,
      "outputs": []
    },
    {
      "cell_type": "code",
      "source": [
        "model=Logistic_Regression(learning_rate=0.01,no_of_iterations=1000)"
      ],
      "metadata": {
        "id": "5FixD1Ak2E77"
      },
      "execution_count": null,
      "outputs": []
    },
    {
      "cell_type": "code",
      "source": [
        "model.fit()"
      ],
      "metadata": {
        "id": "PXRG-LY82J4g"
      },
      "execution_count": null,
      "outputs": []
    }
  ]
}